{
  "nbformat": 4,
  "nbformat_minor": 0,
  "metadata": {
    "colab": {
      "provenance": [],
      "authorship_tag": "ABX9TyNwJyZKZXyUbpQinrsco6KL",
      "include_colab_link": true
    },
    "kernelspec": {
      "name": "python3",
      "display_name": "Python 3"
    },
    "language_info": {
      "name": "python"
    }
  },
  "cells": [
    {
      "cell_type": "markdown",
      "metadata": {
        "id": "view-in-github",
        "colab_type": "text"
      },
      "source": [
        "<a href=\"https://colab.research.google.com/github/Pankaj129/my-projects/blob/PythonAI/PracticeFunctions.ipynb\" target=\"_parent\"><img src=\"https://colab.research.google.com/assets/colab-badge.svg\" alt=\"Open In Colab\"/></a>"
      ]
    },
    {
      "cell_type": "code",
      "execution_count": null,
      "metadata": {
        "id": "7SYRY0VNhWiw"
      },
      "outputs": [],
      "source": [
        "#1\n",
        "def count_chara(text, char):\n",
        "  count = 0;\n",
        "  for word in text:\n",
        "      if(char==word):\n",
        "          count+=1\n",
        "  return count\n",
        "\n",
        "\n",
        "x=input(\"Enetr text \")\n",
        "y=input(\"Enter char \")\n",
        "print(\"Occurance of \",y,\" in \",x,\" is : \",count_chara(x, y))\n",
        "\n",
        "print(\"Occurance of \",y,\" in \",x,\" is : \",x.count(y))"
      ]
    },
    {
      "cell_type": "code",
      "source": [
        "#2\n",
        "def square_numbers_dist(number):\n",
        "  return[ sq*sq for sq in number]\n",
        "\n",
        "\n",
        "number=[1, 5, 29]\n",
        "print(\"Sqr of \",number,\" is \",square_numbers_dist(number))"
      ],
      "metadata": {
        "id": "idndukudhYQU"
      },
      "execution_count": null,
      "outputs": []
    },
    {
      "cell_type": "code",
      "source": [
        "#4\n",
        "def count_text(text, char):\n",
        "  count = [];\n",
        "  for word in text:\n",
        "      if(char==word[0]):\n",
        "          count.append(word)\n",
        "  return count\n",
        "\n",
        "x=[\"apple\", \"banana\", \"avocado\"]\n",
        "y=\"a\"\n",
        "print(\"Occurance of \",y,\" in words \",x,\" is : \",count_text(x, y))\n"
      ],
      "metadata": {
        "id": "Rfb_ucJ_hbVR"
      },
      "execution_count": null,
      "outputs": []
    },
    {
      "cell_type": "code",
      "source": [
        "#4\n",
        "def count_text2(text, char):\n",
        "  return[word for word in text if word[0]==char]\n",
        "\n",
        "x=[\"apple\", \"banana\", \"avocado\"]\n",
        "y=\"a\"\n",
        "print(\"Occurance of starting letter \",y,\" in words \",x,\" is : \",count_text2(x, y))"
      ],
      "metadata": {
        "id": "ZOsZf8ENhjsS"
      },
      "execution_count": null,
      "outputs": []
    },
    {
      "cell_type": "code",
      "source": [
        "# 5. Remove Duplicates and Sort\n",
        "# Write a function unique_sorted(numbers) that:\n",
        "#\n",
        "# Takes a list of integers.\n",
        "# Returns a sorted list with duplicates removed.\n",
        "# Example:\n",
        "#\n",
        "# Input: [4, 2, 2, 1, 3, 4]\n",
        "# Output: [1, 2, 3, 4]\n",
        "\n",
        "def unique_sorted(numbers):\n",
        "  s = set(numbers)\n",
        "  sorted_list = list(s)\n",
        "  sorted_list.sort()\n",
        "  return sorted_list\n",
        "\n",
        "print(unique_sorted([4, 2, 2, 1, 3, 4]))"
      ],
      "metadata": {
        "colab": {
          "base_uri": "https://localhost:8080/"
        },
        "id": "C7I0XoBZhkpo",
        "outputId": "9456781d-74f1-4197-ec2e-a3294a7dc5c4"
      },
      "execution_count": 2,
      "outputs": [
        {
          "output_type": "stream",
          "name": "stdout",
          "text": [
            "[1, 2, 3, 4]\n"
          ]
        }
      ]
    },
    {
      "cell_type": "markdown",
      "source": [
        "**6. Find Longest Word**\n",
        "\n",
        "Write a function longest_word(words) that:\n",
        "\n",
        "Takes a list of strings.\n",
        "Returns the longest word. If there are ties, return the first one.\n",
        "Example:\n",
        "\n",
        "Input: [\"apple\", \"banana\", \"cherry\"]\n",
        "\n",
        "Output: \"banana\""
      ],
      "metadata": {
        "id": "9wGf-QsuovOq"
      }
    },
    {
      "cell_type": "code",
      "source": [
        "def  longest_word(words):\n",
        "  firstWord = words[0]\n",
        "  for word in words:\n",
        "    if(firstWord.len()<word.len()):\n",
        "      firstWord=word\n",
        "  return firstWord\n",
        "\n",
        "print(longest_word([\"apple\", \"banana\", \"cherry\"]))"
      ],
      "metadata": {
        "colab": {
          "base_uri": "https://localhost:8080/"
        },
        "id": "8nxLQ7F0owh7",
        "outputId": "6e6cc34b-c285-406b-ac15-4ffddfc556a9"
      },
      "execution_count": 3,
      "outputs": [
        {
          "output_type": "stream",
          "name": "stdout",
          "text": [
            "banana\n"
          ]
        }
      ]
    },
    {
      "cell_type": "markdown",
      "source": [
        "# 7. Merge Two Dictionaries\n",
        "Write a function merge_dicts(dict1, dict2) that:\n",
        "\n",
        "Takes two dictionaries.\n",
        "Returns a new dictionary with keys and values from both.\n",
        "If a key exists in both, the value from dict2 should overwrite dict1.\n",
        "\n",
        "\n",
        "Example:\n",
        "\n",
        "Input: {\"a\": 1, \"b\": 2}, {\"b\": 3, \"c\": 4}\n",
        "\n",
        "Output: {\"a\": 1, \"b\": 3, \"c\": 4}"
      ],
      "metadata": {
        "id": "PGyF3_Vyq12h"
      }
    },
    {
      "cell_type": "code",
      "source": [
        "def merge_dicts(dict1, dict2):\n",
        "  dict3 = dict1.copy()\n",
        "  dict3.update(dict2)\n",
        "  return dict3\n",
        "\n",
        "print(merge_dicts({\"a\": 1, \"b\": 2}, {\"b\": 3, \"c\": 4}))\n"
      ],
      "metadata": {
        "colab": {
          "base_uri": "https://localhost:8080/"
        },
        "id": "rIMINOJ4rCgw",
        "outputId": "2c8ab639-2999-4ff1-81fb-25ebf353d20e"
      },
      "execution_count": 4,
      "outputs": [
        {
          "output_type": "stream",
          "name": "stdout",
          "text": [
            "{'a': 1, 'b': 3, 'c': 4}\n"
          ]
        }
      ]
    },
    {
      "cell_type": "markdown",
      "source": [
        "# 8. Sum Values in Nested List\n",
        "**Write a function sum_nested(numbers) that:**\n",
        "\n",
        "Takes a list of lists of integers.\n",
        "Returns the total sum of all integers.\n",
        "Example:\n",
        "\n",
        "Input: [[1, 2], [3, 4], [5]]\n",
        "\n",
        "Output: 15"
      ],
      "metadata": {
        "id": "6bOmeWK3rZs3"
      }
    },
    {
      "cell_type": "code",
      "source": [
        "def  sum_nested(numbers):\n",
        "  sum =0\n",
        "  for number in numbers:\n",
        "    for digit in number:\n",
        "      sum+=digit\n",
        "  return sum\n",
        "\n",
        "print(sum_nested([[1, 2], [3, 4], [5]]))\n"
      ],
      "metadata": {
        "colab": {
          "base_uri": "https://localhost:8080/"
        },
        "id": "PbI9X5EFreR3",
        "outputId": "95bbb2a8-8b70-4005-9ca8-ec0b6c41c579"
      },
      "execution_count": 5,
      "outputs": [
        {
          "output_type": "stream",
          "name": "stdout",
          "text": [
            "15\n"
          ]
        }
      ]
    },
    {
      "cell_type": "markdown",
      "source": [
        "# 9. Reverse Words in Sentence\n",
        "**Write a function reverse_words(sentence) that:**\n",
        "\n",
        "Takes a string sentence.\n",
        "Returns the sentence with the words reversed, not the characters.\n",
        "Example:\n",
        "\n",
        "Input: \"hello world from python\"\n",
        "\n",
        "Output: \"python from world hello\""
      ],
      "metadata": {
        "id": "1Ryj4nYpsGsm"
      }
    },
    {
      "cell_type": "code",
      "source": [
        "def reverse_words(sentence):\n",
        "  print(sentence)\n",
        "  rev = list(sentence.split(\" \"))\n",
        "  print(rev)\n",
        "  rev.reverse()\n",
        "  print(rev)\n",
        "  return \" \".join(rev)\n",
        "\n",
        "print(reverse_words(\"hello world from python\"))"
      ],
      "metadata": {
        "colab": {
          "base_uri": "https://localhost:8080/"
        },
        "id": "s0vrifMisKY-",
        "outputId": "3b4ce901-f3bf-43c2-a9c9-7469e1e3dae8"
      },
      "execution_count": 8,
      "outputs": [
        {
          "output_type": "stream",
          "name": "stdout",
          "text": [
            "hello world from python\n",
            "['hello', 'world', 'from', 'python']\n",
            "['python', 'from', 'world', 'hello']\n",
            "python from world hello\n"
          ]
        }
      ]
    },
    {
      "cell_type": "markdown",
      "source": [
        "# 10. Convert List to CSV String\n",
        "**Write a function list_to_csv(items) that:**\n",
        "\n",
        "Takes a list of strings.\n",
        "Returns a single comma-separated string of items.\n",
        "Example:\n",
        "\n",
        "Input: [\"apple\", \"banana\", \"cherry\"]\n",
        "\n",
        "Output: \"apple,banana,cherry\""
      ],
      "metadata": {
        "id": "5LX7sHBHs860"
      }
    },
    {
      "cell_type": "code",
      "source": [
        "def list_to_csv(items):\n",
        "  str = \"\"\n",
        "  for item in items:\n",
        "    str+=item\n",
        "    if(item!=items[-1]):\n",
        "      str+=\",\"\n",
        "  return str\n",
        "\n",
        "print(list_to_csv([\"apple\", \"banana\", \"cherry\"]))"
      ],
      "metadata": {
        "colab": {
          "base_uri": "https://localhost:8080/"
        },
        "id": "B_d-JgnPtGFn",
        "outputId": "48c9b198-da7e-45a5-a6e5-6672ef854d8f"
      },
      "execution_count": 10,
      "outputs": [
        {
          "output_type": "stream",
          "name": "stdout",
          "text": [
            "apple,banana,cherry\n"
          ]
        }
      ]
    }
  ]
}